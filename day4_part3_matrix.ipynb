{
  "nbformat": 4,
  "nbformat_minor": 0,
  "metadata": {
    "colab": {
      "name": "day4_part3_matrix.ipynb",
      "provenance": [],
      "collapsed_sections": [],
      "mount_file_id": "1tSuIirmvu47D0kYaGqj1ECB0nZr6lhcy",
      "authorship_tag": "ABX9TyMzmAS1U+LsVgqfV9xX1xVj",
      "include_colab_link": true
    },
    "kernelspec": {
      "name": "python3",
      "display_name": "Python 3"
    },
    "accelerator": "GPU"
  },
  "cells": [
    {
      "cell_type": "markdown",
      "metadata": {
        "id": "view-in-github",
        "colab_type": "text"
      },
      "source": [
        "<a href=\"https://colab.research.google.com/github/toskpl/dw_matrix_road_sing/blob/master/day4_part3_matrix.ipynb\" target=\"_parent\"><img src=\"https://colab.research.google.com/assets/colab-badge.svg\" alt=\"Open In Colab\"/></a>"
      ]
    },
    {
      "cell_type": "code",
      "metadata": {
        "id": "fp0KQ5Bm3Eso",
        "colab_type": "code",
        "outputId": "c4ac7cc8-007e-4b8b-c998-bcc1f1ab7221",
        "colab": {
          "base_uri": "https://localhost:8080/",
          "height": 51
        }
      },
      "source": [
        "\"\"\"import bibliotek\"\"\"\n",
        "import pandas as pd\n",
        "import numpy as np\n",
        "\n",
        "\n",
        "import os\n",
        "import datetime\n",
        "\n",
        "import tensorflow as tf\n",
        "from tensorflow.keras.models import Sequential\n",
        "from tensorflow.keras.layers import Conv2D,MaxPool2D,Dense,Flatten,Dropout\n",
        "from tensorflow.keras.utils import to_categorical\n",
        "\n",
        "#do wizualizacjai krzywej uczenia sie\n",
        "%load_ext tensorboard\n",
        "\n",
        "import matplotlib.pyplot as plt\n",
        "\n",
        "from skimage import color, exposure\n",
        "\n",
        "from sklearn.metrics import accuracy_score"
      ],
      "execution_count": 0,
      "outputs": [
        {
          "output_type": "stream",
          "text": [
            "The tensorboard extension is already loaded. To reload it, use:\n",
            "  %reload_ext tensorboard\n"
          ],
          "name": "stdout"
        }
      ]
    },
    {
      "cell_type": "code",
      "metadata": {
        "id": "W9tkW8_23vmK",
        "colab_type": "code",
        "outputId": "232ca8c5-8cb9-4d02-b656-1f65f399d916",
        "colab": {
          "base_uri": "https://localhost:8080/",
          "height": 34
        }
      },
      "source": [
        "cd '/content/drive/My Drive/Colab Notebooks/DW_Matrix/matrix_three/dw_matrix_road_sing'"
      ],
      "execution_count": 0,
      "outputs": [
        {
          "output_type": "stream",
          "text": [
            "/content/drive/My Drive/Colab Notebooks/DW_Matrix/matrix_three/dw_matrix_road_sing\n"
          ],
          "name": "stdout"
        }
      ]
    },
    {
      "cell_type": "code",
      "metadata": {
        "id": "925JiDPA30Fh",
        "colab_type": "code",
        "outputId": "eccf4578-e2dd-44dd-f328-75f70f87919d",
        "colab": {
          "base_uri": "https://localhost:8080/",
          "height": 34
        }
      },
      "source": [
        "\"\"\"wczytane danych z pliki typu pickle\"\"\"\n",
        "train = pd.read_pickle('data/train.p')\n",
        "test = pd.read_pickle('data/test.p')\n",
        "\n",
        "\n",
        "\"\"\"rozmiar zbioru danych\"\"\"\n",
        "X_train, y_train = train['features'], train['labels']\n",
        "X_test, y_test = test['features'], test['labels']\n",
        "X_train.shape,y_train.shape,X_test.shape,y_test.shape"
      ],
      "execution_count": 0,
      "outputs": [
        {
          "output_type": "execute_result",
          "data": {
            "text/plain": [
              "((34799, 32, 32, 3), (34799,), (4410, 32, 32, 3), (4410,))"
            ]
          },
          "metadata": {
            "tags": []
          },
          "execution_count": 3
        }
      ]
    },
    {
      "cell_type": "code",
      "metadata": {
        "id": "gGXRTbxX4DYE",
        "colab_type": "code",
        "outputId": "284ecd71-7b0b-4fbb-d708-e7e261bc79ef",
        "colab": {
          "base_uri": "https://localhost:8080/",
          "height": 68
        }
      },
      "source": [
        "to_categorical(y_train)[0]"
      ],
      "execution_count": 0,
      "outputs": [
        {
          "output_type": "execute_result",
          "data": {
            "text/plain": [
              "array([0., 0., 0., 0., 0., 0., 0., 0., 0., 0., 0., 0., 0., 0., 0., 0., 0.,\n",
              "       0., 0., 0., 0., 0., 0., 0., 0., 0., 0., 0., 0., 0., 0., 0., 0., 0.,\n",
              "       0., 0., 0., 0., 0., 0., 0., 1., 0.], dtype=float32)"
            ]
          },
          "metadata": {
            "tags": []
          },
          "execution_count": 4
        }
      ]
    },
    {
      "cell_type": "code",
      "metadata": {
        "id": "KeBlPAW64GpD",
        "colab_type": "code",
        "colab": {}
      },
      "source": [
        "\n",
        "\"\"\"transformacja jesli jest 1 to przypisz kategorie mozna uruchamiac wiele razy\"\"\"\n",
        "if y_train.ndim == 1 : y_train = to_categorical(y_train)\n",
        "if y_test.ndim == 1 : y_test = to_categorical(y_test)"
      ],
      "execution_count": 0,
      "outputs": []
    },
    {
      "cell_type": "code",
      "metadata": {
        "id": "E4WMrElB4M0R",
        "colab_type": "code",
        "outputId": "434333e9-7b9d-44fb-dc10-2c290511c15b",
        "colab": {
          "base_uri": "https://localhost:8080/",
          "height": 34
        }
      },
      "source": [
        "y_train.shape,y_test.shape"
      ],
      "execution_count": 0,
      "outputs": [
        {
          "output_type": "execute_result",
          "data": {
            "text/plain": [
              "((34799, 43), (4410, 43))"
            ]
          },
          "metadata": {
            "tags": []
          },
          "execution_count": 6
        }
      ]
    },
    {
      "cell_type": "code",
      "metadata": {
        "id": "p_zyUDsc4QgX",
        "colab_type": "code",
        "colab": {}
      },
      "source": [
        "\"\"\"pomocniczne zmianne do modelu jako wesjcieowe - zachouwje rozmiary wektorow\"\"\"\n",
        "input_shape = X_train.shape [1:]\n",
        "num_classes = y_train.shape[1]"
      ],
      "execution_count": 0,
      "outputs": []
    },
    {
      "cell_type": "code",
      "metadata": {
        "id": "qZgMTCh94Tou",
        "colab_type": "code",
        "outputId": "0f7874b1-8fd7-41f4-9190-aab0d2f68cce",
        "colab": {
          "base_uri": "https://localhost:8080/",
          "height": 255
        }
      },
      "source": [
        "\"\"\"model CNN\"\"\"\n",
        "model =Sequential([\n",
        "         Conv2D(filters=64,kernel_size=(3,3),activation='relu',input_shape=input_shape ),\n",
        "         Flatten(),\n",
        "         Dense(num_classes,activation='softmax')\n",
        "\n",
        "])\n",
        "\n",
        "model.summary()"
      ],
      "execution_count": 0,
      "outputs": [
        {
          "output_type": "stream",
          "text": [
            "Model: \"sequential\"\n",
            "_________________________________________________________________\n",
            "Layer (type)                 Output Shape              Param #   \n",
            "=================================================================\n",
            "conv2d (Conv2D)              (None, 30, 30, 64)        1792      \n",
            "_________________________________________________________________\n",
            "flatten (Flatten)            (None, 57600)             0         \n",
            "_________________________________________________________________\n",
            "dense (Dense)                (None, 43)                2476843   \n",
            "=================================================================\n",
            "Total params: 2,478,635\n",
            "Trainable params: 2,478,635\n",
            "Non-trainable params: 0\n",
            "_________________________________________________________________\n"
          ],
          "name": "stdout"
        }
      ]
    },
    {
      "cell_type": "code",
      "metadata": {
        "id": "MolH9hgu4YqG",
        "colab_type": "code",
        "colab": {}
      },
      "source": [
        "#kompilacja modelu\n",
        "model.compile(loss='categorical_crossentropy',optimizer='Adam', metrics=['accuracy'])"
      ],
      "execution_count": 0,
      "outputs": []
    },
    {
      "cell_type": "code",
      "metadata": {
        "id": "7QrbVzGi4bkF",
        "colab_type": "code",
        "outputId": "f70ae5dd-685d-41dd-b92f-2d4c48462bff",
        "colab": {
          "base_uri": "https://localhost:8080/",
          "height": 51
        }
      },
      "source": [
        "#trenowanie modelu\n",
        "model.fit(X_train,y_train)"
      ],
      "execution_count": 0,
      "outputs": [
        {
          "output_type": "stream",
          "text": [
            "1088/1088 [==============================] - 3s 3ms/step - loss: 9.4286 - accuracy: 0.7989\n"
          ],
          "name": "stdout"
        },
        {
          "output_type": "execute_result",
          "data": {
            "text/plain": [
              "<tensorflow.python.keras.callbacks.History at 0x7f3de0487160>"
            ]
          },
          "metadata": {
            "tags": []
          },
          "execution_count": 10
        }
      ]
    },
    {
      "cell_type": "code",
      "metadata": {
        "id": "edYJEdCb4fkP",
        "colab_type": "code",
        "colab": {}
      },
      "source": [
        "\"\"\"\"funckje pomocnicze\"\"\"\n",
        "def gen_cnn_v1(input_shape,num_classes):\n",
        "  return Sequential([\n",
        "         Conv2D(filters=64,kernel_size=(3,3),activation='relu',input_shape=input_shape ),\n",
        "\n",
        "         Flatten(),\n",
        "\n",
        "         Dense(num_classes,activation='softmax')\n",
        "\n",
        "\n",
        "])\n",
        "  \n",
        "def train_model(model, X_train,y_train, params_fit={}):\n",
        "  model.compile(loss='categorical_crossentropy',optimizer='Adam', metrics=['accuracy'])\n",
        "\n",
        "  logdir = os.path.join(\"logs\",datetime.datetime.now().strftime(\"%Y-%m-%d-%H%M%S\"))\n",
        "  tensorboard_callbacks = tf.keras.callbacks.TensorBoard(logdir,histogram_freq=1)\n",
        "\n",
        "  model.fit(X_train,\n",
        "            y_train,\n",
        "            batch_size = params_fit.get('batch_size',128),\n",
        "            epochs = params_fit.get('epochs',5),\n",
        "            verbose = params_fit.get('verbose',1),\n",
        "            validation_data = params_fit.get('validation_data',(X_train,y_train)),\n",
        "            callbacks = [tensorboard_callbacks]\n",
        "  )\n",
        "\n",
        "  return model"
      ],
      "execution_count": 0,
      "outputs": []
    },
    {
      "cell_type": "code",
      "metadata": {
        "id": "HTg2SP-Z4qqy",
        "colab_type": "code",
        "outputId": "ee26cfd7-8f55-413a-8699-0960baced443",
        "colab": {
          "base_uri": "https://localhost:8080/",
          "height": 187
        }
      },
      "source": [
        "model = gen_cnn_v1(input_shape,num_classes)\n",
        "model_trained = train_model(model,X_train,y_train)"
      ],
      "execution_count": 0,
      "outputs": [
        {
          "output_type": "stream",
          "text": [
            "Epoch 1/5\n",
            "272/272 [==============================] - 2s 9ms/step - loss: 45.3148 - accuracy: 0.6862 - val_loss: 0.2586 - val_accuracy: 0.9356\n",
            "Epoch 2/5\n",
            "272/272 [==============================] - 2s 9ms/step - loss: 0.2455 - accuracy: 0.9407 - val_loss: 0.1227 - val_accuracy: 0.9684\n",
            "Epoch 3/5\n",
            "272/272 [==============================] - 2s 9ms/step - loss: 0.1306 - accuracy: 0.9668 - val_loss: 0.1369 - val_accuracy: 0.9632\n",
            "Epoch 4/5\n",
            "272/272 [==============================] - 2s 9ms/step - loss: 0.1272 - accuracy: 0.9675 - val_loss: 0.0797 - val_accuracy: 0.9810\n",
            "Epoch 5/5\n",
            "272/272 [==============================] - 2s 9ms/step - loss: 0.0848 - accuracy: 0.9791 - val_loss: 0.1024 - val_accuracy: 0.9779\n"
          ],
          "name": "stdout"
        }
      ]
    },
    {
      "cell_type": "code",
      "metadata": {
        "id": "-FAYVgfF5F3B",
        "colab_type": "code",
        "outputId": "f4ed73b6-b596-4932-f868-233c4ef6fe85",
        "colab": {
          "base_uri": "https://localhost:8080/",
          "height": 238
        }
      },
      "source": [
        "#predykcja - prawdobodobieństwo ze znak nalezy do danej klasy\n",
        "y_predict_prob = model_trained.predict(X_test)\n",
        "y_predict_prob"
      ],
      "execution_count": 0,
      "outputs": [
        {
          "output_type": "execute_result",
          "data": {
            "text/plain": [
              "array([[2.56761190e-08, 1.71514930e-05, 1.48696639e-03, ...,\n",
              "        2.14174679e-06, 2.70647579e-05, 5.23966446e-05],\n",
              "       [3.75652576e-08, 6.09255767e-05, 2.21613180e-02, ...,\n",
              "        5.71146302e-06, 3.38850896e-06, 6.01855791e-05],\n",
              "       [3.13302850e-09, 1.00631987e-05, 7.55718036e-04, ...,\n",
              "        4.85518467e-06, 1.04529652e-04, 3.49495640e-05],\n",
              "       ...,\n",
              "       [1.99796204e-02, 2.66534649e-02, 1.85301956e-02, ...,\n",
              "        2.68347654e-03, 1.12636313e-02, 1.10943485e-02],\n",
              "       [1.29752327e-02, 6.54584449e-03, 1.03310682e-02, ...,\n",
              "        2.85130553e-03, 1.48870274e-02, 1.26673444e-03],\n",
              "       [8.09445884e-03, 1.10642724e-02, 1.21560674e-02, ...,\n",
              "        8.65757524e-04, 7.51099922e-03, 6.43511675e-03]], dtype=float32)"
            ]
          },
          "metadata": {
            "tags": []
          },
          "execution_count": 14
        }
      ]
    },
    {
      "cell_type": "markdown",
      "metadata": {
        "id": "3UfdnI9eTk4g",
        "colab_type": "text"
      },
      "source": [
        "Przykład\n"
      ]
    },
    {
      "cell_type": "code",
      "metadata": {
        "id": "5BmlWFvq-PxV",
        "colab_type": "code",
        "outputId": "aa41dc30-082d-4661-8448-0c73f13bf515",
        "colab": {
          "base_uri": "https://localhost:8080/",
          "height": 283
        }
      },
      "source": [
        "#przykladowy znak\n",
        "plt.imshow(X_test[400])"
      ],
      "execution_count": 0,
      "outputs": [
        {
          "output_type": "execute_result",
          "data": {
            "text/plain": [
              "<matplotlib.image.AxesImage at 0x7f3de003f860>"
            ]
          },
          "metadata": {
            "tags": []
          },
          "execution_count": 39
        },
        {
          "output_type": "display_data",
          "data": {
            "image/png": "[encoded data removed]",
            "text/plain": [
              "<Figure size 432x288 with 1 Axes>"
            ]
          },
          "metadata": {
            "tags": []
          }
        }
      ]
    },
    {
      "cell_type": "code",
      "metadata": {
        "id": "DFjqHJFA501s",
        "colab_type": "code",
        "outputId": "59f56fe2-151a-4f87-9061-00743e86998a",
        "colab": {
          "base_uri": "https://localhost:8080/",
          "height": 204
        }
      },
      "source": [
        "#predykcja dla znaku 400\n",
        "y_predict_prob[400]"
      ],
      "execution_count": 0,
      "outputs": [
        {
          "output_type": "execute_result",
          "data": {
            "text/plain": [
              "array([9.9751806e-01, 2.4817614e-03, 1.4839673e-10, 6.6818998e-12,\n",
              "       2.3844180e-07, 4.8587419e-09, 4.4217807e-14, 3.5391995e-12,\n",
              "       4.6859218e-13, 3.3485503e-10, 1.5089003e-11, 4.6091781e-19,\n",
              "       1.2457969e-13, 3.0869548e-13, 4.5286648e-16, 2.1946930e-10,\n",
              "       8.6110352e-10, 1.3650481e-23, 2.0215234e-16, 1.1940951e-24,\n",
              "       4.3677982e-18, 3.1866842e-20, 4.1346592e-23, 1.1196657e-18,\n",
              "       1.0011314e-16, 3.5149664e-20, 1.0672401e-17, 1.9259854e-26,\n",
              "       7.7997725e-15, 1.5608845e-17, 3.2352589e-22, 1.8757076e-20,\n",
              "       6.4690367e-12, 1.1585414e-15, 9.3441703e-19, 2.0212174e-21,\n",
              "       7.3080898e-29, 7.3851414e-26, 3.2637733e-27, 8.5607378e-34,\n",
              "       1.8763774e-23, 5.2953053e-19, 1.9361757e-16], dtype=float32)"
            ]
          },
          "metadata": {
            "tags": []
          },
          "execution_count": 40
        }
      ]
    },
    {
      "cell_type": "code",
      "metadata": {
        "id": "fiousfrO9qxj",
        "colab_type": "code",
        "outputId": "d03ca5c7-b141-44e8-f42f-7156ef9a4c9b",
        "colab": {
          "base_uri": "https://localhost:8080/",
          "height": 34
        }
      },
      "source": [
        "#suma prawdopodobwieństw = 1\n",
        "np.sum ([9.9751806e-01, 2.4817614e-03, 1.4839673e-10, 6.6818998e-12,\n",
        "       2.3844180e-07, 4.8587419e-09, 4.4217807e-14, 3.5391995e-12,\n",
        "       4.6859218e-13, 3.3485503e-10, 1.5089003e-11, 4.6091781e-19,\n",
        "       1.2457969e-13, 3.0869548e-13, 4.5286648e-16, 2.1946930e-10,\n",
        "       8.6110352e-10, 1.3650481e-23, 2.0215234e-16, 1.1940951e-24,\n",
        "       4.3677982e-18, 3.1866842e-20, 4.1346592e-23, 1.1196657e-18,\n",
        "       1.0011314e-16, 3.5149664e-20, 1.0672401e-17, 1.9259854e-26,\n",
        "       7.7997725e-15, 1.5608845e-17, 3.2352589e-22, 1.8757076e-20,\n",
        "       6.4690367e-12, 1.1585414e-15, 9.3441703e-19, 2.0212174e-21,\n",
        "       7.3080898e-29, 7.3851414e-26, 3.2637733e-27, 8.5607378e-34,\n",
        "       1.8763774e-23, 5.2953053e-19, 1.9361757e-16])"
      ],
      "execution_count": 0,
      "outputs": [
        {
          "output_type": "execute_result",
          "data": {
            "text/plain": [
              "1.0000000662971018"
            ]
          },
          "metadata": {
            "tags": []
          },
          "execution_count": 41
        }
      ]
    },
    {
      "cell_type": "code",
      "metadata": {
        "id": "dgRax4iW6bBi",
        "colab_type": "code",
        "outputId": "f949e6ba-64eb-43a9-a70e-2bd2681fe1de",
        "colab": {
          "base_uri": "https://localhost:8080/",
          "height": 748
        }
      },
      "source": [
        "#labele znaków z csv\n",
        "df = pd.read_csv('data/signamesad.csv')\n",
        "lables_dict = df.to_dict()['b']\n",
        "lables_dict"
      ],
      "execution_count": 0,
      "outputs": [
        {
          "output_type": "execute_result",
          "data": {
            "text/plain": [
              "{0: 'Speed limit (20km/h)',\n",
              " 1: 'Speed limit (30km/h)',\n",
              " 2: 'Speed limit (50km/h)',\n",
              " 3: 'Speed limit (60km/h)',\n",
              " 4: 'Speed limit (70km/h)',\n",
              " 5: 'Speed limit (80km/h)',\n",
              " 6: 'End of speed limit (80km/h)',\n",
              " 7: 'Speed limit (100km/h)',\n",
              " 8: 'Speed limit (120km/h)',\n",
              " 9: 'No passing',\n",
              " 10: 'No passing for vehicles over 3.5 metric tons',\n",
              " 11: 'Right-of-way at the next intersection',\n",
              " 12: 'Priority road',\n",
              " 13: 'Yield',\n",
              " 14: 'Stop',\n",
              " 15: 'No vehicles',\n",
              " 16: 'Vehicles over 3.5 metric tons prohibited',\n",
              " 17: 'No entry',\n",
              " 18: 'General caution',\n",
              " 19: 'Dangerous curve to the left',\n",
              " 20: 'Dangerous curve to the right',\n",
              " 21: 'Double curve',\n",
              " 22: 'Bumpy road',\n",
              " 23: 'Slippery road',\n",
              " 24: 'Road narrows on the right',\n",
              " 25: 'Road work',\n",
              " 26: 'Traffic signals',\n",
              " 27: 'Pedestrians',\n",
              " 28: 'Children crossing',\n",
              " 29: 'Bicycles crossing',\n",
              " 30: 'Beware of ice/snow',\n",
              " 31: 'Wild animals crossing',\n",
              " 32: 'End of all speed and passing limits',\n",
              " 33: 'Turn right ahead',\n",
              " 34: 'Turn left ahead',\n",
              " 35: 'Ahead only',\n",
              " 36: 'Go straight or right',\n",
              " 37: 'Go straight or left',\n",
              " 38: 'Keep right',\n",
              " 39: 'Keep left',\n",
              " 40: 'Roundabout mandatory',\n",
              " 41: 'End of no passing',\n",
              " 42: 'End of no passing by vehicles over 3.5 metric tons'}"
            ]
          },
          "metadata": {
            "tags": []
          },
          "execution_count": 42
        }
      ]
    },
    {
      "cell_type": "code",
      "metadata": {
        "id": "SCCeB00o8TYq",
        "colab_type": "code",
        "outputId": "2f629fdc-f4f6-41e4-bed4-dec5e1bd986a",
        "colab": {
          "base_uri": "https://localhost:8080/",
          "height": 34
        }
      },
      "source": [
        "#model twierdzi ze 400 to znak Speed limit (20km/h)\n",
        "lables_dict [ np.argmax(y_predict_prob[400])]"
      ],
      "execution_count": 0,
      "outputs": [
        {
          "output_type": "execute_result",
          "data": {
            "text/plain": [
              "'Speed limit (20km/h)'"
            ]
          },
          "metadata": {
            "tags": []
          },
          "execution_count": 43
        }
      ]
    },
    {
      "cell_type": "code",
      "metadata": {
        "id": "xzu528y679ge",
        "colab_type": "code",
        "outputId": "2f102dd4-971b-4a39-fa7a-81867fa3bd9c",
        "colab": {
          "base_uri": "https://localhost:8080/",
          "height": 282
        }
      },
      "source": [
        "plt.bar(range(43),y_predict_prob[400])"
      ],
      "execution_count": 0,
      "outputs": [
        {
          "output_type": "execute_result",
          "data": {
            "text/plain": [
              "<BarContainer object of 43 artists>"
            ]
          },
          "metadata": {
            "tags": []
          },
          "execution_count": 44
        },
        {
          "output_type": "display_data",
          "data": {
            "image/png": "[encoded data removed]",
            "text/plain": [
              "<Figure size 432x288 with 1 Axes>"
            ]
          },
          "metadata": {
            "tags": []
          }
        }
      ]
    },
    {
      "cell_type": "code",
      "metadata": {
        "id": "w0iSJOv8-eFK",
        "colab_type": "code",
        "outputId": "ea66ae2b-2a0f-45c0-a9f5-18d5c9b01f5e",
        "colab": {
          "base_uri": "https://localhost:8080/",
          "height": 34
        }
      },
      "source": [
        "lables_dict [1]"
      ],
      "execution_count": 0,
      "outputs": [
        {
          "output_type": "execute_result",
          "data": {
            "text/plain": [
              "'Speed limit (30km/h)'"
            ]
          },
          "metadata": {
            "tags": []
          },
          "execution_count": 46
        }
      ]
    },
    {
      "cell_type": "code",
      "metadata": {
        "id": "iEb1JoEi-0V9",
        "colab_type": "code",
        "colab": {}
      },
      "source": [
        "df = pd.read_csv('data/signamesad.csv')\n",
        "\n",
        "lables_dict = df.to_dict()['b']"
      ],
      "execution_count": 0,
      "outputs": []
    },
    {
      "cell_type": "code",
      "metadata": {
        "id": "kUlG4Ocn-_tg",
        "colab_type": "code",
        "colab": {}
      },
      "source": [
        "\"\"\"funckje pomocnicze\"\"\"\n",
        "def predict(model_trained, X_test,y_test,scoring=accuracy_score):\n",
        "    y_test_norm = np.argmax(y_test,axis=1)\n",
        "\n",
        "    y_predict_prob = model_trained.predict(X_test)\n",
        "    y_pred = np.argmax(y_predict_prob,axis=1)\n",
        "    return scoring(y_test_norm,y_pred)\n"
      ],
      "execution_count": 0,
      "outputs": []
    },
    {
      "cell_type": "code",
      "metadata": {
        "id": "14clzsObBV8b",
        "colab_type": "code",
        "outputId": "0957f789-0a52-4590-e166-8262de0d9f94",
        "colab": {
          "base_uri": "https://localhost:8080/",
          "height": 34
        }
      },
      "source": [
        "predict(model_trained,X_test,y_test)"
      ],
      "execution_count": 0,
      "outputs": [
        {
          "output_type": "execute_result",
          "data": {
            "text/plain": [
              "0.8108843537414966"
            ]
          },
          "metadata": {
            "tags": []
          },
          "execution_count": 50
        }
      ]
    },
    {
      "cell_type": "markdown",
      "metadata": {
        "id": "rdWa-0PD6YGE",
        "colab_type": "text"
      },
      "source": [
        "Architektury modeli"
      ]
    },
    {
      "cell_type": "code",
      "metadata": {
        "id": "R9ublnZBCq_n",
        "colab_type": "code",
        "colab": {}
      },
      "source": [
        "def train_and_predict(model):\n",
        "  model_trained = train_model(model,X_train,y_train)\n",
        "  return predict(model_trained,X_test,y_test)"
      ],
      "execution_count": 0,
      "outputs": []
    },
    {
      "cell_type": "code",
      "metadata": {
        "id": "VxHMronsBuTA",
        "colab_type": "code",
        "outputId": "0258fc74-16ae-4b8a-f8f2-c92e5a9b34d0",
        "colab": {
          "base_uri": "https://localhost:8080/",
          "height": 204
        }
      },
      "source": [
        "def gen_cnn_v2(input_shape,num_classes):\n",
        "  return Sequential([\n",
        "         Conv2D(filters=32,kernel_size=(3,3),activation='relu',input_shape=input_shape ),\n",
        "         MaxPool2D(),\n",
        "         Dropout(0.3),\n",
        "\n",
        "         Conv2D(filters=64,kernel_size=(3,3),activation='relu' ),\n",
        "         MaxPool2D(),\n",
        "         Dropout(0.3),\n",
        "\n",
        "         Flatten(),\n",
        "         Dense(1024,activation='relu'),\n",
        "\n",
        "         Dropout(0.3),\n",
        "         Dense(num_classes,activation='softmax')\n",
        "\n",
        "\n",
        "])\n",
        "\n",
        "train_and_predict( gen_cnn_v2(input_shape,num_classes))\n"
      ],
      "execution_count": 0,
      "outputs": [
        {
          "output_type": "stream",
          "text": [
            "Epoch 1/5\n",
            "272/272 [==============================] - 3s 9ms/step - loss: 6.1240 - accuracy: 0.2923 - val_loss: 1.1267 - val_accuracy: 0.7378\n",
            "Epoch 2/5\n",
            "272/272 [==============================] - 2s 9ms/step - loss: 1.1945 - accuracy: 0.6543 - val_loss: 0.4599 - val_accuracy: 0.8938\n",
            "Epoch 3/5\n",
            "272/272 [==============================] - 2s 9ms/step - loss: 0.6630 - accuracy: 0.8054 - val_loss: 0.1862 - val_accuracy: 0.9624\n",
            "Epoch 4/5\n",
            "272/272 [==============================] - 2s 9ms/step - loss: 0.4173 - accuracy: 0.8792 - val_loss: 0.1187 - val_accuracy: 0.9772\n",
            "Epoch 5/5\n",
            "272/272 [==============================] - 2s 9ms/step - loss: 0.3053 - accuracy: 0.9103 - val_loss: 0.0651 - val_accuracy: 0.9895\n"
          ],
          "name": "stdout"
        },
        {
          "output_type": "execute_result",
          "data": {
            "text/plain": [
              "0.9260770975056689"
            ]
          },
          "metadata": {
            "tags": []
          },
          "execution_count": 58
        }
      ]
    },
    {
      "cell_type": "code",
      "metadata": {
        "id": "NXVsIzZIIQA3",
        "colab_type": "code",
        "outputId": "bdcd74e4-ccc9-47a2-c4d7-ad9d736d74b2",
        "colab": {
          "base_uri": "https://localhost:8080/",
          "height": 221
        }
      },
      "source": [
        "def gen_cnn_v3(input_shape,num_classes):\n",
        "  return Sequential([\n",
        "         Conv2D(filters=32,kernel_size=(3,3),activation='relu',input_shape=input_shape ),\n",
        "         Conv2D(filters=32,kernel_size=(3,3),activation='relu' ),\n",
        "         MaxPool2D(),\n",
        "         Dropout(0.3),\n",
        "\n",
        "         Conv2D(filters=64,kernel_size=(3,3),activation='relu' ),\n",
        "         Conv2D(filters=64,kernel_size=(3,3),activation='relu' ),\n",
        "         MaxPool2D(),\n",
        "         Dropout(0.3),\n",
        "\n",
        "         Flatten(),\n",
        "         Dense(1024,activation='relu'),\n",
        "\n",
        "         Dropout(0.3),\n",
        "         Dense(num_classes,activation='softmax')\n",
        "\n",
        "\n",
        "])\n",
        "  \n",
        "train_and_predict( gen_cnn_v3(input_shape,num_classes))\n"
      ],
      "execution_count": 0,
      "outputs": [
        {
          "output_type": "stream",
          "text": [
            "ERROR! Session/line number was not unique in database. History logging moved to new session 63\n",
            "Epoch 1/5\n",
            "272/272 [==============================] - 3s 12ms/step - loss: 1.7819 - accuracy: 0.5867 - val_loss: 0.2808 - val_accuracy: 0.9290\n",
            "Epoch 2/5\n",
            "272/272 [==============================] - 3s 11ms/step - loss: 0.4273 - accuracy: 0.8735 - val_loss: 0.0813 - val_accuracy: 0.9809\n",
            "Epoch 3/5\n",
            "272/272 [==============================] - 3s 11ms/step - loss: 0.2327 - accuracy: 0.9321 - val_loss: 0.0587 - val_accuracy: 0.9868\n",
            "Epoch 4/5\n",
            "272/272 [==============================] - 3s 11ms/step - loss: 0.1627 - accuracy: 0.9521 - val_loss: 0.0234 - val_accuracy: 0.9943\n",
            "Epoch 5/5\n",
            "272/272 [==============================] - 3s 11ms/step - loss: 0.1245 - accuracy: 0.9631 - val_loss: 0.0191 - val_accuracy: 0.9957\n"
          ],
          "name": "stdout"
        },
        {
          "output_type": "execute_result",
          "data": {
            "text/plain": [
              "0.963718820861678"
            ]
          },
          "metadata": {
            "tags": []
          },
          "execution_count": 59
        }
      ]
    },
    {
      "cell_type": "code",
      "metadata": {
        "id": "Rl7dhPV2JKYq",
        "colab_type": "code",
        "outputId": "d3639ceb-6de1-49ee-dac4-9ebafc104325",
        "colab": {
          "base_uri": "https://localhost:8080/",
          "height": 204
        }
      },
      "source": [
        "def gen_cnn_v4(input_shape,num_classes):\n",
        "  return Sequential([\n",
        "         Conv2D(filters=32,kernel_size=(3,3),activation='relu',input_shape=input_shape ),\n",
        "         Conv2D(filters=32,kernel_size=(3,3),activation='relu' ,padding='same'),\n",
        "         MaxPool2D(),\n",
        "         Dropout(0.3),\n",
        "\n",
        "         Conv2D(filters=64,kernel_size=(3,3),activation='relu' ,padding='same' ),\n",
        "         Conv2D(filters=64,kernel_size=(3,3),activation='relu' ),\n",
        "         MaxPool2D(),\n",
        "         Dropout(0.3),\n",
        "\n",
        "          Conv2D(filters=64,kernel_size=(3,3),activation='relu' ,padding='same' ),\n",
        "         Conv2D(filters=64,kernel_size=(3,3),activation='relu' ),\n",
        "         MaxPool2D(),\n",
        "         Dropout(0.3),\n",
        "\n",
        "         Flatten(),\n",
        "         Dense(1024,activation='relu'),\n",
        "\n",
        "         Dropout(0.3),\n",
        "         Dense(num_classes,activation='softmax')\n",
        "\n",
        "\n",
        "])\n",
        "  \n",
        "train_and_predict( gen_cnn_v4(input_shape,num_classes))"
      ],
      "execution_count": 0,
      "outputs": [
        {
          "output_type": "stream",
          "text": [
            "Epoch 1/5\n",
            "272/272 [==============================] - 4s 14ms/step - loss: 2.6100 - accuracy: 0.3037 - val_loss: 0.8884 - val_accuracy: 0.7513\n",
            "Epoch 2/5\n",
            "272/272 [==============================] - 3s 13ms/step - loss: 0.8165 - accuracy: 0.7530 - val_loss: 0.2290 - val_accuracy: 0.9403\n",
            "Epoch 3/5\n",
            "272/272 [==============================] - 3s 13ms/step - loss: 0.3781 - accuracy: 0.8864 - val_loss: 0.0815 - val_accuracy: 0.9765\n",
            "Epoch 4/5\n",
            "272/272 [==============================] - 3s 13ms/step - loss: 0.2409 - accuracy: 0.9284 - val_loss: 0.0558 - val_accuracy: 0.9845\n",
            "Epoch 5/5\n",
            "272/272 [==============================] - 3s 13ms/step - loss: 0.1767 - accuracy: 0.9480 - val_loss: 0.0377 - val_accuracy: 0.9889\n"
          ],
          "name": "stdout"
        },
        {
          "output_type": "execute_result",
          "data": {
            "text/plain": [
              "0.9757369614512472"
            ]
          },
          "metadata": {
            "tags": []
          },
          "execution_count": 62
        }
      ]
    },
    {
      "cell_type": "code",
      "metadata": {
        "id": "jdEPdMOEKKXR",
        "colab_type": "code",
        "outputId": "bffa6faa-024c-4879-fe3c-af6e5a5321bb",
        "colab": {
          "base_uri": "https://localhost:8080/",
          "height": 204
        }
      },
      "source": [
        "def gen_cnn_v5(input_shape,num_classes):\n",
        "  return Sequential([\n",
        "         Conv2D(filters=32,kernel_size=(3,3),activation='relu',input_shape=input_shape ),\n",
        "         Conv2D(filters=32,kernel_size=(3,3),activation='relu' ,padding='same'),\n",
        "         MaxPool2D(),\n",
        "         Dropout(0.3),\n",
        "\n",
        "         Conv2D(filters=64,kernel_size=(3,3),activation='relu' ,padding='same' ),\n",
        "         Conv2D(filters=64,kernel_size=(3,3),activation='relu' ),\n",
        "         MaxPool2D(),\n",
        "         Dropout(0.3),\n",
        "\n",
        "          Conv2D(filters=64,kernel_size=(3,3),activation='relu' ,padding='same' ),\n",
        "         Conv2D(filters=64,kernel_size=(3,3),activation='relu' ),\n",
        "         MaxPool2D(),\n",
        "         Dropout(0.3),\n",
        "\n",
        "         Flatten(),\n",
        "         Dense(1024,activation='relu'),\n",
        "         Dropout(0.3),\n",
        "\n",
        "         Dense(1024,activation='relu'),\n",
        "         Dropout(0.3),\n",
        "         Dense(num_classes,activation='softmax')\n",
        "\n",
        "\n",
        "])\n",
        "  \n",
        "train_and_predict( gen_cnn_v5(input_shape,num_classes))"
      ],
      "execution_count": 0,
      "outputs": [
        {
          "output_type": "stream",
          "text": [
            "Epoch 1/5\n",
            "272/272 [==============================] - 4s 14ms/step - loss: 2.6691 - accuracy: 0.2951 - val_loss: 0.7117 - val_accuracy: 0.7867\n",
            "Epoch 2/5\n",
            "272/272 [==============================] - 4s 13ms/step - loss: 0.7094 - accuracy: 0.7795 - val_loss: 0.1832 - val_accuracy: 0.9499\n",
            "Epoch 3/5\n",
            "272/272 [==============================] - 4s 13ms/step - loss: 0.3340 - accuracy: 0.8990 - val_loss: 0.0861 - val_accuracy: 0.9747\n",
            "Epoch 4/5\n",
            "272/272 [==============================] - 4s 13ms/step - loss: 0.2377 - accuracy: 0.9312 - val_loss: 0.0700 - val_accuracy: 0.9799\n",
            "Epoch 5/5\n",
            "272/272 [==============================] - 4s 13ms/step - loss: 0.1770 - accuracy: 0.9484 - val_loss: 0.0422 - val_accuracy: 0.9888\n"
          ],
          "name": "stdout"
        },
        {
          "output_type": "execute_result",
          "data": {
            "text/plain": [
              "0.9657596371882086"
            ]
          },
          "metadata": {
            "tags": []
          },
          "execution_count": 64
        }
      ]
    },
    {
      "cell_type": "code",
      "metadata": {
        "id": "TaAAzD-XCcwW",
        "colab_type": "code",
        "outputId": "21c94779-b635-47e1-89a5-f172d86d3345",
        "colab": {
          "base_uri": "https://localhost:8080/",
          "height": 283
        }
      },
      "source": [
        "#rgb2gray redukuje kanały z 3 kanał do 1 (RGB do szarosci )\n",
        "#plt.get_cmap('gray') - odcienie szarosci\n",
        "\n",
        "plt.imshow( color.rgb2gray(X_train[0]),cmap= plt.get_cmap('gray'))"
      ],
      "execution_count": 0,
      "outputs": [
        {
          "output_type": "execute_result",
          "data": {
            "text/plain": [
              "<matplotlib.image.AxesImage at 0x7f3d7761fdd8>"
            ]
          },
          "metadata": {
            "tags": []
          },
          "execution_count": 66
        },
        {
          "output_type": "display_data",
          "data": {
            "image/png": "[encoded data removed]",
            "text/plain": [
              "<Figure size 432x288 with 1 Axes>"
            ]
          },
          "metadata": {
            "tags": []
          }
        }
      ]
    },
    {
      "cell_type": "code",
      "metadata": {
        "id": "3KZ41XY-Lp2p",
        "colab_type": "code",
        "colab": {}
      },
      "source": [
        "X_train_gray = color.rgb2gray(X_train).reshape(-1,32,32,1)\n",
        "X_test_gray = color.rgb2gray(X_test).reshape(-1,32,32,1)"
      ],
      "execution_count": 0,
      "outputs": []
    },
    {
      "cell_type": "code",
      "metadata": {
        "id": "CluDAJSIM_Fb",
        "colab_type": "code",
        "outputId": "d46cd2f5-996e-45e9-bf52-2eb2740d6f3c",
        "colab": {
          "base_uri": "https://localhost:8080/",
          "height": 204
        }
      },
      "source": [
        "model = gen_cnn_v5((32,32,1),num_classes)\n",
        "model_trained = train_model(model,X_train_gray,y_train,params_fit={})\n",
        "predict(model_trained,X_test_gray,y_test)"
      ],
      "execution_count": 0,
      "outputs": [
        {
          "output_type": "stream",
          "text": [
            "Epoch 1/5\n",
            "272/272 [==============================] - 4s 14ms/step - loss: 2.3712 - accuracy: 0.3213 - val_loss: 0.6890 - val_accuracy: 0.7671\n",
            "Epoch 2/5\n",
            "272/272 [==============================] - 4s 13ms/step - loss: 0.6033 - accuracy: 0.8020 - val_loss: 0.1823 - val_accuracy: 0.9450\n",
            "Epoch 3/5\n",
            "272/272 [==============================] - 4s 13ms/step - loss: 0.2961 - accuracy: 0.9052 - val_loss: 0.0981 - val_accuracy: 0.9713\n",
            "Epoch 4/5\n",
            "272/272 [==============================] - 4s 13ms/step - loss: 0.1858 - accuracy: 0.9428 - val_loss: 0.0470 - val_accuracy: 0.9857\n",
            "Epoch 5/5\n",
            "272/272 [==============================] - 4s 13ms/step - loss: 0.1329 - accuracy: 0.9579 - val_loss: 0.0388 - val_accuracy: 0.9884\n"
          ],
          "name": "stdout"
        },
        {
          "output_type": "execute_result",
          "data": {
            "text/plain": [
              "0.9489795918367347"
            ]
          },
          "metadata": {
            "tags": []
          },
          "execution_count": 70
        }
      ]
    }
  ]
}