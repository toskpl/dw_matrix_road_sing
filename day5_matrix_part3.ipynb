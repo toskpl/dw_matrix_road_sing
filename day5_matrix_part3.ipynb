{
  "nbformat": 4,
  "nbformat_minor": 0,
  "metadata": {
    "colab": {
      "name": "day5_matrix_part3.ipynb",
      "provenance": [],
      "collapsed_sections": [],
      "mount_file_id": "1FqzLnh0RkihcNVHcFRTFwICvoejEIgLK",
      "authorship_tag": "ABX9TyM8i9PBuzgKEBmRG8YsonQL",
      "include_colab_link": true
    },
    "kernelspec": {
      "name": "python3",
      "display_name": "Python 3"
    },
    "accelerator": "GPU"
  },
  "cells": [
    {
      "cell_type": "markdown",
      "metadata": {
        "id": "view-in-github",
        "colab_type": "text"
      },
      "source": [
        "<a href=\"https://colab.research.google.com/github/toskpl/dw_matrix_road_sing/blob/master/day5_matrix_part3.ipynb\" target=\"_parent\"><img src=\"https://colab.research.google.com/assets/colab-badge.svg\" alt=\"Open In Colab\"/></a>"
      ]
    },
    {
      "cell_type": "code",
      "metadata": {
        "id": "zoKj_EDEO9Jr",
        "colab_type": "code",
        "outputId": "9531f388-7c11-4837-c7df-31935ed7875a",
        "colab": {
          "base_uri": "https://localhost:8080/",
          "height": 170
        }
      },
      "source": [
        "!pip install hyperopt"
      ],
      "execution_count": 0,
      "outputs": [
        {
          "output_type": "stream",
          "text": [
            "Requirement already satisfied: hyperopt in /usr/local/lib/python3.6/dist-packages (0.1.2)\n",
            "Requirement already satisfied: pymongo in /usr/local/lib/python3.6/dist-packages (from hyperopt) (3.10.1)\n",
            "Requirement already satisfied: scipy in /usr/local/lib/python3.6/dist-packages (from hyperopt) (1.4.1)\n",
            "Requirement already satisfied: networkx in /usr/local/lib/python3.6/dist-packages (from hyperopt) (2.4)\n",
            "Requirement already satisfied: future in /usr/local/lib/python3.6/dist-packages (from hyperopt) (0.16.0)\n",
            "Requirement already satisfied: tqdm in /usr/local/lib/python3.6/dist-packages (from hyperopt) (4.38.0)\n",
            "Requirement already satisfied: numpy in /usr/local/lib/python3.6/dist-packages (from hyperopt) (1.18.2)\n",
            "Requirement already satisfied: six in /usr/local/lib/python3.6/dist-packages (from hyperopt) (1.12.0)\n",
            "Requirement already satisfied: decorator>=4.3.0 in /usr/local/lib/python3.6/dist-packages (from networkx->hyperopt) (4.4.2)\n"
          ],
          "name": "stdout"
        }
      ]
    },
    {
      "cell_type": "code",
      "metadata": {
        "id": "0_BZv3SaPM-j",
        "colab_type": "code",
        "colab": {}
      },
      "source": [
        "\"\"\"import bibliotek\"\"\"\n",
        "import pandas as pd\n",
        "import numpy as np\n",
        "\n",
        "\n",
        "import os\n",
        "import datetime\n",
        "\n",
        "import tensorflow as tf\n",
        "from tensorflow.keras.models import Sequential\n",
        "from tensorflow.keras.layers import Conv2D,MaxPool2D,Dense,Flatten,Dropout\n",
        "from tensorflow.keras.utils import to_categorical\n",
        "\n",
        "#do wizualizacjai krzywej uczenia sie\n",
        "%load_ext tensorboard\n",
        "\n",
        "import matplotlib.pyplot as plt\n",
        "\n",
        "from skimage import color, exposure\n",
        "\n",
        "from sklearn.metrics import accuracy_score\n",
        "\n",
        "from hyperopt import hp, STATUS_OK,tpe,Trials,fmin"
      ],
      "execution_count": 0,
      "outputs": []
    },
    {
      "cell_type": "code",
      "metadata": {
        "id": "mUCywzjaPddz",
        "colab_type": "code",
        "outputId": "e82fbb09-afb2-41f4-c057-2a9ef8aca725",
        "colab": {
          "base_uri": "https://localhost:8080/",
          "height": 34
        }
      },
      "source": [
        "cd '/content/drive/My Drive/Colab Notebooks/DW_Matrix/matrix_three/dw_matrix_road_sing'"
      ],
      "execution_count": 0,
      "outputs": [
        {
          "output_type": "stream",
          "text": [
            "/content/drive/My Drive/Colab Notebooks/DW_Matrix/matrix_three/dw_matrix_road_sing\n"
          ],
          "name": "stdout"
        }
      ]
    },
    {
      "cell_type": "code",
      "metadata": {
        "id": "z7qO8dbJPja5",
        "colab_type": "code",
        "outputId": "57719a4f-2119-4abe-d906-eab8816a2e43",
        "colab": {
          "base_uri": "https://localhost:8080/",
          "height": 34
        }
      },
      "source": [
        "\"\"\"wczytane danych z pliki typu pickle\"\"\"\n",
        "train = pd.read_pickle('data/train.p')\n",
        "test = pd.read_pickle('data/test.p')\n",
        "\n",
        "\n",
        "\"\"\"rozmiar zbioru danych\"\"\"\n",
        "X_train, y_train = train['features'], train['labels']\n",
        "X_test, y_test = test['features'], test['labels']\n",
        "X_train.shape,y_train.shape,X_test.shape,y_test.shape\n"
      ],
      "execution_count": 0,
      "outputs": [
        {
          "output_type": "execute_result",
          "data": {
            "text/plain": [
              "((34799, 32, 32, 3), (34799,), (4410, 32, 32, 3), (4410,))"
            ]
          },
          "metadata": {
            "tags": []
          },
          "execution_count": 9
        }
      ]
    },
    {
      "cell_type": "code",
      "metadata": {
        "id": "scc5qky2P3ZZ",
        "colab_type": "code",
        "colab": {}
      },
      "source": [
        "\"\"\"transformacja jesli jest 1 to przypisz kategorie mozna uruchamiac wiele razy\"\"\"\n",
        "if y_train.ndim == 1 : y_train = to_categorical(y_train)\n",
        "if y_test.ndim == 1 : y_test = to_categorical(y_test)"
      ],
      "execution_count": 0,
      "outputs": []
    },
    {
      "cell_type": "code",
      "metadata": {
        "id": "UosIB-ZVPqVK",
        "colab_type": "code",
        "colab": {}
      },
      "source": [
        "\"\"\"pomocniczne zmianne do modelu jako wesjcieowe - zachouwje rozmiary wektorow\"\"\"\n",
        "input_shape = X_train.shape [1:]\n",
        "num_classes = y_train.shape[1]"
      ],
      "execution_count": 0,
      "outputs": []
    },
    {
      "cell_type": "code",
      "metadata": {
        "id": "aHnXjKO1QNMb",
        "colab_type": "code",
        "colab": {}
      },
      "source": [
        "\"\"\"funkcje pomocnicze\"\"\"\n",
        "def train_model(model, X_train,y_train, params_fit={}):\n",
        "  model.compile(loss='categorical_crossentropy',optimizer='Adam', metrics=['accuracy'])\n",
        "\n",
        "  logdir = os.path.join(\"logs\",datetime.datetime.now().strftime(\"%Y-%m-%d-%H%M%S\"))\n",
        "  tensorboard_callbacks = tf.keras.callbacks.TensorBoard(logdir,histogram_freq=1)\n",
        "\n",
        "  model.fit(X_train,\n",
        "            y_train,\n",
        "            batch_size = params_fit.get('batch_size',128),\n",
        "            epochs = params_fit.get('epochs',5),\n",
        "            verbose = params_fit.get('verbose',1),\n",
        "            validation_data = params_fit.get('validation_data',(X_train,y_train)),\n",
        "            callbacks = [tensorboard_callbacks]\n",
        "  )\n",
        "\n",
        "  return model\n",
        "\n",
        "def predict(model_trained, X_test,y_test,scoring=accuracy_score):\n",
        "    y_test_norm = np.argmax(y_test,axis=1)\n",
        "\n",
        "    y_predict_prob = model_trained.predict(X_test)\n",
        "    y_pred = np.argmax(y_predict_prob,axis=1)\n",
        "    return scoring(y_test_norm,y_pred)\n",
        "  \n",
        "\n",
        "def train_and_predict(model):\n",
        "  model_trained = train_model(model,X_train,y_train)\n",
        "  return predict(model_trained,X_test,y_test)"
      ],
      "execution_count": 0,
      "outputs": []
    },
    {
      "cell_type": "code",
      "metadata": {
        "id": "b9voAiwZQiJr",
        "colab_type": "code",
        "outputId": "1840075b-9f54-4031-eb28-974d6b10b02c",
        "colab": {
          "base_uri": "https://localhost:8080/",
          "height": 204
        }
      },
      "source": [
        "\"\"\"model\"\"\"\n",
        "def gen_cnn_v5(input_shape,num_classes):\n",
        "  return Sequential([\n",
        "         Conv2D(filters=32,kernel_size=(3,3),activation='relu',input_shape=input_shape ),\n",
        "         Conv2D(filters=32,kernel_size=(3,3),activation='relu' ,padding='same'),\n",
        "         MaxPool2D(),\n",
        "         Dropout(0.3),\n",
        "\n",
        "         Conv2D(filters=64,kernel_size=(3,3),activation='relu' ,padding='same' ),\n",
        "         Conv2D(filters=64,kernel_size=(3,3),activation='relu' ),\n",
        "         MaxPool2D(),\n",
        "         Dropout(0.3),\n",
        "\n",
        "         Conv2D(filters=64,kernel_size=(3,3),activation='relu' ,padding='same' ),\n",
        "         Conv2D(filters=64,kernel_size=(3,3),activation='relu' ),\n",
        "         MaxPool2D(),\n",
        "         Dropout(0.3),\n",
        "\n",
        "         Flatten(),\n",
        "         Dense(1024,activation='relu'),\n",
        "         Dropout(0.3),\n",
        "\n",
        "         Dense(1024,activation='relu'),\n",
        "         Dropout(0.3),\n",
        "         Dense(num_classes,activation='softmax')\n",
        "\n",
        "\n",
        "])\n",
        "  \n",
        "train_and_predict( gen_cnn_v5(input_shape,num_classes))"
      ],
      "execution_count": 0,
      "outputs": [
        {
          "output_type": "stream",
          "text": [
            "Epoch 1/5\n",
            "272/272 [==============================] - 5s 19ms/step - loss: 2.5487 - accuracy: 0.3103 - val_loss: 0.9428 - val_accuracy: 0.7377\n",
            "Epoch 2/5\n",
            "272/272 [==============================] - 5s 17ms/step - loss: 0.8733 - accuracy: 0.7222 - val_loss: 0.2358 - val_accuracy: 0.9274\n",
            "Epoch 3/5\n",
            "272/272 [==============================] - 5s 17ms/step - loss: 0.4516 - accuracy: 0.8603 - val_loss: 0.1158 - val_accuracy: 0.9646\n",
            "Epoch 4/5\n",
            "272/272 [==============================] - 5s 17ms/step - loss: 0.2914 - accuracy: 0.9093 - val_loss: 0.0591 - val_accuracy: 0.9835\n",
            "Epoch 5/5\n",
            "272/272 [==============================] - 5s 17ms/step - loss: 0.2156 - accuracy: 0.9347 - val_loss: 0.0437 - val_accuracy: 0.9875\n"
          ],
          "name": "stdout"
        },
        {
          "output_type": "execute_result",
          "data": {
            "text/plain": [
              "0.9609977324263038"
            ]
          },
          "metadata": {
            "tags": []
          },
          "execution_count": 13
        }
      ]
    },
    {
      "cell_type": "code",
      "metadata": {
        "id": "aBcJxr-Uq21P",
        "colab_type": "code",
        "colab": {}
      },
      "source": [
        ""
      ],
      "execution_count": 0,
      "outputs": []
    },
    {
      "cell_type": "code",
      "metadata": {
        "id": "0MjHNU3wRN03",
        "colab_type": "code",
        "outputId": "bde2659d-14cf-42a5-8b97-bc78e286df5d",
        "colab": {
          "base_uri": "https://localhost:8080/",
          "height": 204
        }
      },
      "source": [
        "model = gen_cnn_v5(input_shape,num_classes)\n",
        "model_trained = train_model(model,X_train,y_train,params_fit={})\n",
        "predict(model_trained,X_test,y_test)"
      ],
      "execution_count": 0,
      "outputs": [
        {
          "output_type": "stream",
          "text": [
            "Epoch 1/5\n",
            "272/272 [==============================] - 5s 18ms/step - loss: 2.4394 - accuracy: 0.3248 - val_loss: 0.8733 - val_accuracy: 0.7457\n",
            "Epoch 2/5\n",
            "272/272 [==============================] - 5s 17ms/step - loss: 0.8034 - accuracy: 0.7457 - val_loss: 0.2678 - val_accuracy: 0.9190\n",
            "Epoch 3/5\n",
            "272/272 [==============================] - 5s 17ms/step - loss: 0.4285 - accuracy: 0.8631 - val_loss: 0.1563 - val_accuracy: 0.9505\n",
            "Epoch 4/5\n",
            "272/272 [==============================] - 5s 17ms/step - loss: 0.3060 - accuracy: 0.9059 - val_loss: 0.0827 - val_accuracy: 0.9722\n",
            "Epoch 5/5\n",
            "272/272 [==============================] - 5s 17ms/step - loss: 0.2313 - accuracy: 0.9277 - val_loss: 0.0504 - val_accuracy: 0.9833\n"
          ],
          "name": "stdout"
        },
        {
          "output_type": "execute_result",
          "data": {
            "text/plain": [
              "0.9582766439909297"
            ]
          },
          "metadata": {
            "tags": []
          },
          "execution_count": 14
        }
      ]
    },
    {
      "cell_type": "code",
      "metadata": {
        "id": "TlN-TSHpSL4z",
        "colab_type": "code",
        "colab": {}
      },
      "source": [
        "\"\"\"funkcja do hyperopt\"\"\"\n",
        "def fun_obj(params):\n",
        "  model =  gen_cnn_v5(input_shape,num_classes)\n",
        "\n",
        "  model.compile(loss='categorical_crossentropy',optimizer='Adam', metrics=['accuracy'])\n",
        "  model.fit(X_train,\n",
        "            y_train,\n",
        "            batch_size = int(params.get('batch_size',128)),\n",
        "            epochs = 7,\n",
        "            verbose = 0,\n",
        "  )\n",
        "\n",
        "  accuracy = model.evaluate(X_test,y_test)[0]\n",
        "  print(params,'accuracy={}'.format(accuracy))\n",
        "\n",
        "  return {'loss' : -accuracy, 'status': STATUS_OK,'model':model}"
      ],
      "execution_count": 0,
      "outputs": []
    },
    {
      "cell_type": "code",
      "metadata": {
        "id": "eNrLGAMoTsRT",
        "colab_type": "code",
        "outputId": "874cba69-3764-4d63-9e19-2fa0aa8a9d15",
        "colab": {
          "base_uri": "https://localhost:8080/",
          "height": 323
        }
      },
      "source": [
        "\"\"\"funkcja do hyperopt\"\"\"\n",
        "space = {\n",
        "    'batch_size': hp.quniform('batch_size',50,200,20)\n",
        "}\n",
        "\n",
        "best = fmin (\n",
        "    fun_obj,\n",
        "    space,\n",
        "    tpe.suggest,\n",
        "    1,\n",
        "    Trials()\n",
        ")"
      ],
      "execution_count": 0,
      "outputs": [
        {
          "output_type": "stream",
          "text": [
            "  1/138 [..............................]\n",
            " - ETA: 0s - loss: 0.1301 - accuracy: 0.9688\n",
            "\b\b\b\b\b\b\b\b\b\b\b\b\b\b\b\b\b\b\b\b\b\b\b\b\b\b\b\b\b\b\b\b\b\b\b\b\b\b\b\b\b\b\b\b\b\b\b\b\b\b\b\b\b\b\b\b\b\b\b\b\b\b\b\b\b\b\b\b\b\b\b\b\b\b\b\b\b\b\b\b\b\b\b\b\n",
            " 17/138 [==>...........................]\n",
            " - ETA: 0s - loss: 0.1330 - accuracy: 0.9688\n",
            "\b\b\b\b\b\b\b\b\b\b\b\b\b\b\b\b\b\b\b\b\b\b\b\b\b\b\b\b\b\b\b\b\b\b\b\b\b\b\b\b\b\b\b\b\b\b\b\b\b\b\b\b\b\b\b\b\b\b\b\b\b\b\b\b\b\b\b\b\b\b\b\b\b\b\b\b\b\b\b\b\b\b\b\b\n",
            " 30/138 [=====>........................]\n",
            " - ETA: 0s - loss: 0.1359 - accuracy: 0.9688\n",
            "\b\b\b\b\b\b\b\b\b\b\b\b\b\b\b\b\b\b\b\b\b\b\b\b\b\b\b\b\b\b\b\b\b\b\b\b\b\b\b\b\b\b\b\b\b\b\b\b\b\b\b\b\b\b\b\b\b\b\b\b\b\b\b\b\b\b\b\b\b\b\b\b\b\b\b\b\b\b\b\b\b\b\b\b\n",
            " 43/138 [========>.....................]\n",
            " - ETA: 0s - loss: 0.1000 - accuracy: 0.9775\n",
            "\b\b\b\b\b\b\b\b\b\b\b\b\b\b\b\b\b\b\b\b\b\b\b\b\b\b\b\b\b\b\b\b\b\b\b\b\b\b\b\b\b\b\b\b\b\b\b\b\b\b\b\b\b\b\b\b\b\b\b\b\b\b\b\b\b\b\b\b\b\b\b\b\b\b\b\b\b\b\b\b\b\b\b\b\n",
            " 56/138 [===========>..................]\n",
            " - ETA: 0s - loss: 0.1278 - accuracy: 0.9704\n",
            "\b\b\b\b\b\b\b\b\b\b\b\b\b\b\b\b\b\b\b\b\b\b\b\b\b\b\b\b\b\b\b\b\b\b\b\b\b\b\b\b\b\b\b\b\b\b\b\b\b\b\b\b\b\b\b\b\b\b\b\b\b\b\b\b\b\b\b\b\b\b\b\b\b\b\b\b\b\b\b\b\b\b\b\b\n",
            " 71/138 [==============>...............]\n",
            " - ETA: 0s - loss: 0.1115 - accuracy: 0.9723\n",
            "\b\b\b\b\b\b\b\b\b\b\b\b\b\b\b\b\b\b\b\b\b\b\b\b\b\b\b\b\b\b\b\b\b\b\b\b\b\b\b\b\b\b\b\b\b\b\b\b\b\b\b\b\b\b\b\b\b\b\b\b\b\b\b\b\b\b\b\b\b\b\b\b\b\b\b\b\b\b\b\b\b\b\b\b\n",
            " 84/138 [=================>............]\n",
            " - ETA: 0s - loss: 0.0997 - accuracy: 0.9751\n",
            "\b\b\b\b\b\b\b\b\b\b\b\b\b\b\b\b\b\b\b\b\b\b\b\b\b\b\b\b\b\b\b\b\b\b\b\b\b\b\b\b\b\b\b\b\b\b\b\b\b\b\b\b\b\b\b\b\b\b\b\b\b\b\b\b\b\b\b\b\b\b\b\b\b\b\b\b\b\b\b\b\b\b\b\b\n",
            " 92/138 [===================>..........]\n",
            " - ETA: 0s - loss: 0.0926 - accuracy: 0.9769\n",
            "\b\b\b\b\b\b\b\b\b\b\b\b\b\b\b\b\b\b\b\b\b\b\b\b\b\b\b\b\b\b\b\b\b\b\b\b\b\b\b\b\b\b\b\b\b\b\b\b\b\b\b\b\b\b\b\b\b\b\b\b\b\b\b\b\b\b\b\b\b\b\b\b\b\b\b\b\b\b\b\b\b\b\b\b\n",
            "101/138 [====================>.........]\n",
            " - ETA: 0s - loss: 0.0905 - accuracy: 0.9765\n",
            "\b\b\b\b\b\b\b\b\b\b\b\b\b\b\b\b\b\b\b\b\b\b\b\b\b\b\b\b\b\b\b\b\b\b\b\b\b\b\b\b\b\b\b\b\b\b\b\b\b\b\b\b\b\b\b\b\b\b\b\b\b\b\b\b\b\b\b\b\b\b\b\b\b\b\b\b\b\b\b\b\b\b\b\b\n",
            "113/138 [=======================>......]\n",
            " - ETA: 0s - loss: 0.1017 - accuracy: 0.9748\n",
            "\b\b\b\b\b\b\b\b\b\b\b\b\b\b\b\b\b\b\b\b\b\b\b\b\b\b\b\b\b\b\b\b\b\b\b\b\b\b\b\b\b\b\b\b\b\b\b\b\b\b\b\b\b\b\b\b\b\b\b\b\b\b\b\b\b\b\b\b\b\b\b\b\b\b\b\b\b\b\b\b\b\b\b\b\n",
            "125/138 [==========================>...]\n",
            " - ETA: 0s - loss: 0.0921 - accuracy: 0.9772\n",
            "\b\b\b\b\b\b\b\b\b\b\b\b\b\b\b\b\b\b\b\b\b\b\b\b\b\b\b\b\b\b\b\b\b\b\b\b\b\b\b\b\b\b\b\b\b\b\b\b\b\b\b\b\b\b\b\b\b\b\b\b\b\b\b\b\b\b\b\b\b\b\b\b\b\b\b\b\b\b\b\b\b\b\b\b\n",
            "138/138 [==============================]\n",
            " - ETA: 0s - loss: 0.0857 - accuracy: 0.9789\n",
            "\b\b\b\b\b\b\b\b\b\b\b\b\b\b\b\b\b\b\b\b\b\b\b\b\b\b\b\b\b\b\b\b\b\b\b\b\b\b\b\b\b\b\b\b\b\b\b\b\b\b\b\b\b\b\b\b\b\b\b\b\b\b\b\b\b\b\b\b\b\b\b\b\b\b\b\b\b\b\b\b\b\b\b\b\n",
            "138/138 [==============================]\n",
            " - 1s 4ms/step - loss: 0.0857 - accuracy: 0.9789\n",
            "\n",
            "{'batch_size': 200.0}\n",
            "accuracy=0.0856911763548851\n",
            "100%|██████████| 1/1 [00:19<00:00, 19.25s/it, best loss: -0.0856911763548851]\n"
          ],
          "name": "stdout"
        }
      ]
    },
    {
      "cell_type": "code",
      "metadata": {
        "id": "FQE4MYxwrusK",
        "colab_type": "code",
        "colab": {}
      },
      "source": [
        ""
      ],
      "execution_count": 0,
      "outputs": []
    },
    {
      "cell_type": "code",
      "metadata": {
        "id": "cxvKPOJDru6Z",
        "colab_type": "code",
        "colab": {}
      },
      "source": [
        "def get_model(params):\n",
        "  return Sequential([\n",
        "         Conv2D(filters=32,kernel_size=(3,3),activation='relu',input_shape=input_shape ),\n",
        "         Conv2D(filters=32,kernel_size=(3,3),activation='relu' ,padding='same'),\n",
        "         Conv2D(filters=32,kernel_size=(3,3),activation='relu' ,padding='same'),\n",
        "         MaxPool2D(),\n",
        "         Dropout(params['dropout_cnn_one']),\n",
        "\n",
        "         Conv2D(filters=64,kernel_size=(3,3),activation='relu' ,padding='same' ),\n",
        "         Conv2D(filters=64,kernel_size=(3,3),activation='relu' ,padding='same'),\n",
        "         Conv2D(filters=64,kernel_size=(3,3),activation='relu' ),\n",
        "         MaxPool2D(),\n",
        "         Dropout(params['dropout_cnn_two']),\n",
        "\n",
        "         Conv2D(filters=128,kernel_size=(3,3),activation='relu' ,padding='same' ),\n",
        "         Conv2D(filters=128,kernel_size=(3,3),activation='relu',padding='same' ),\n",
        "         Conv2D(filters=128,kernel_size=(3,3),activation='relu' ),\n",
        "         MaxPool2D(),\n",
        "         Dropout(params['dropout_cnn_three']),\n",
        "\n",
        "         Flatten(),\n",
        "         Dense(1024,activation='relu'),\n",
        "         Dropout(params['dropout_dense_one']),\n",
        "\n",
        "         Dense(1024,activation='relu'),\n",
        "         Dropout(params['dropout_dense_two']),\n",
        "         Dense(num_classes,activation='softmax')\n",
        "\n",
        "\n",
        "])"
      ],
      "execution_count": 0,
      "outputs": []
    },
    {
      "cell_type": "code",
      "metadata": {
        "id": "KdQsIbIYrzDB",
        "colab_type": "code",
        "colab": {}
      },
      "source": [
        "\"\"\"funkcja do hyperopt\"\"\"\n",
        "def fun_obj(params):\n",
        "  model =  get_model(params)\n",
        "\n",
        "  model.compile(loss='categorical_crossentropy',optimizer='Adam', metrics=['accuracy'])\n",
        "  model.fit(X_train,\n",
        "            y_train,\n",
        "            batch_size = int(params.get('batch_size',128)),\n",
        "            epochs = 7,\n",
        "            verbose = 0,\n",
        "  )\n",
        "\n",
        "  score = model.evaluate(X_test,y_test,verbose=0)\n",
        "  accuracy = score[1]\n",
        "  print(params,'accuracy={}'.format(accuracy))\n",
        "\n",
        "  return {'loss' : -accuracy, 'status': STATUS_OK,'model':model}"
      ],
      "execution_count": 0,
      "outputs": []
    },
    {
      "cell_type": "code",
      "metadata": {
        "id": "kZ3euYYgsEn6",
        "colab_type": "code",
        "outputId": "de4edaf9-dfe3-4edb-a4dd-c8e5c4b5f1ca",
        "colab": {
          "base_uri": "https://localhost:8080/",
          "height": 1000
        }
      },
      "source": [
        "\"\"\"funkcja do hyperopt\"\"\"\n",
        "space = {\n",
        "    'batch_size': hp.quniform('batch_size',100,200,10),\n",
        "    'dropout_cnn_one':hp.uniform ('dropout_cnn_one',0.3,0.5),\n",
        "    'dropout_cnn_two':hp.uniform ('dropout_cnn_two',0.3,0.5),\n",
        "    'dropout_cnn_three':hp.uniform ('dropout_cnn_three',0.3,0.5),\n",
        "\n",
        "    'dropout_dense_one':hp.uniform ('dropout_dense_one',0.3,0.7),\n",
        "    'dropout_dense_two':hp.uniform ('dropout_dense_two',0.3,0.7)\n",
        "\n",
        "}\n",
        "\n",
        "best = fmin (\n",
        "    fun_obj,\n",
        "    space,\n",
        "    tpe.suggest,\n",
        "    30,\n",
        "    Trials()\n",
        ")"
      ],
      "execution_count": 0,
      "outputs": [
        {
          "output_type": "stream",
          "text": [
            "{'batch_size': 180.0, 'dropout_cnn_one': 0.33765946773273275, 'dropout_cnn_three': 0.3427054125868428, 'dropout_cnn_two': 0.36637419928344106, 'dropout_dense_one': 0.46973120419349434, 'dropout_dense_two': 0.6982790524843541}\n",
            "accuracy=0.9539682269096375\n",
            "{'batch_size': 170.0, 'dropout_cnn_one': 0.4074722125032846, 'dropout_cnn_three': 0.4141444718606718, 'dropout_cnn_two': 0.3224248334165675, 'dropout_dense_one': 0.5524017057540858, 'dropout_dense_two': 0.4244978490090039}\n",
            "accuracy=0.9680272340774536\n",
            "{'batch_size': 160.0, 'dropout_cnn_one': 0.34751464256278675, 'dropout_cnn_three': 0.3270349674299432, 'dropout_cnn_two': 0.32626067308950146, 'dropout_dense_one': 0.36332523950997325, 'dropout_dense_two': 0.5613989016276132}\n",
            "accuracy=0.9702947735786438\n",
            "{'batch_size': 180.0, 'dropout_cnn_one': 0.49452113260731734, 'dropout_cnn_three': 0.32797787926892863, 'dropout_cnn_two': 0.3057272310001801, 'dropout_dense_one': 0.3100224164579931, 'dropout_dense_two': 0.45432767980092814}\n",
            "accuracy=0.9650793671607971\n",
            "{'batch_size': 160.0, 'dropout_cnn_one': 0.3223676189685774, 'dropout_cnn_three': 0.37128349964664775, 'dropout_cnn_two': 0.3594696397135277, 'dropout_dense_one': 0.5598285794864375, 'dropout_dense_two': 0.5576023535773436}\n",
            "accuracy=0.9739229083061218\n",
            "{'batch_size': 140.0, 'dropout_cnn_one': 0.3078970327111551, 'dropout_cnn_three': 0.4217732265330595, 'dropout_cnn_two': 0.3162256680792274, 'dropout_dense_one': 0.3561997102964131, 'dropout_dense_two': 0.5209124387974616}\n",
            "accuracy=0.9705215692520142\n",
            "{'batch_size': 120.0, 'dropout_cnn_one': 0.3617513232573098, 'dropout_cnn_three': 0.3877316338777858, 'dropout_cnn_two': 0.4460418661071088, 'dropout_dense_one': 0.39532693301285626, 'dropout_dense_two': 0.4955028866830552}\n",
            "accuracy=0.9764172434806824\n",
            "{'batch_size': 160.0, 'dropout_cnn_one': 0.41929436076186205, 'dropout_cnn_three': 0.3698125824770736, 'dropout_cnn_two': 0.33372799762442884, 'dropout_dense_one': 0.5180455860336577, 'dropout_dense_two': 0.5394101722014014}\n",
            "accuracy=0.9607709646224976\n",
            "{'batch_size': 200.0, 'dropout_cnn_one': 0.4365272220813057, 'dropout_cnn_three': 0.33531273342424867, 'dropout_cnn_two': 0.4614621595613937, 'dropout_dense_one': 0.3407966501812496, 'dropout_dense_two': 0.6551288724984318}\n",
            "accuracy=0.9689342379570007\n",
            "{'batch_size': 150.0, 'dropout_cnn_one': 0.4124869988470061, 'dropout_cnn_three': 0.4836435509784974, 'dropout_cnn_two': 0.3498025251493808, 'dropout_dense_one': 0.31963025192451455, 'dropout_dense_two': 0.35033746086706524}\n",
            "accuracy=0.9630385637283325\n",
            "{'batch_size': 120.0, 'dropout_cnn_one': 0.37745681626604416, 'dropout_cnn_three': 0.4736732400193314, 'dropout_cnn_two': 0.3349986623482241, 'dropout_dense_one': 0.4203961686795204, 'dropout_dense_two': 0.5602341292125035}\n",
            "accuracy=0.9689342379570007\n",
            "{'batch_size': 110.0, 'dropout_cnn_one': 0.3508982306005992, 'dropout_cnn_three': 0.48750457402115394, 'dropout_cnn_two': 0.43572041098082026, 'dropout_dense_one': 0.5835148737431328, 'dropout_dense_two': 0.34908605738992654}\n",
            "accuracy=0.9709750413894653\n",
            "{'batch_size': 100.0, 'dropout_cnn_one': 0.457271754809943, 'dropout_cnn_three': 0.3182500902979396, 'dropout_cnn_two': 0.37794668156655586, 'dropout_dense_one': 0.36097017187977465, 'dropout_dense_two': 0.5145639648795203}\n",
            "accuracy=0.9467120170593262\n",
            "{'batch_size': 200.0, 'dropout_cnn_one': 0.36662845952461304, 'dropout_cnn_three': 0.35531887894336545, 'dropout_cnn_two': 0.3450246204858634, 'dropout_dense_one': 0.6429256919711879, 'dropout_dense_two': 0.4286587348996578}\n",
            "accuracy=0.9687075018882751\n",
            "{'batch_size': 140.0, 'dropout_cnn_one': 0.3944801022278889, 'dropout_cnn_three': 0.4041359122008534, 'dropout_cnn_two': 0.36339662884214885, 'dropout_dense_one': 0.5161421948387214, 'dropout_dense_two': 0.38678177533017094}\n",
            "accuracy=0.9712018370628357\n",
            "{'batch_size': 120.0, 'dropout_cnn_one': 0.48247784260989707, 'dropout_cnn_three': 0.34735210212040246, 'dropout_cnn_two': 0.37027228435243065, 'dropout_dense_one': 0.5909592565521283, 'dropout_dense_two': 0.4540692375725975}\n",
            "accuracy=0.9551020264625549\n",
            "{'batch_size': 100.0, 'dropout_cnn_one': 0.3337297790748762, 'dropout_cnn_three': 0.4643064853805139, 'dropout_cnn_two': 0.42465727346321624, 'dropout_dense_one': 0.4119259009432361, 'dropout_dense_two': 0.3850318501243388}\n",
            "accuracy=0.9621315002441406\n",
            "{'batch_size': 190.0, 'dropout_cnn_one': 0.44621418312979466, 'dropout_cnn_three': 0.3572106892134036, 'dropout_cnn_two': 0.4291291714524721, 'dropout_dense_one': 0.49769039014822214, 'dropout_dense_two': 0.6888250436856023}\n",
            "accuracy=0.9741496443748474\n",
            "{'batch_size': 110.0, 'dropout_cnn_one': 0.4122438979553621, 'dropout_cnn_three': 0.40672838390516575, 'dropout_cnn_two': 0.41131188625413784, 'dropout_dense_one': 0.5024702510680089, 'dropout_dense_two': 0.5618269482814248}\n",
            "accuracy=0.9707483053207397\n",
            "{'batch_size': 120.0, 'dropout_cnn_one': 0.3477537806430486, 'dropout_cnn_three': 0.383637470760664, 'dropout_cnn_two': 0.37302784374980147, 'dropout_dense_one': 0.49532330901840504, 'dropout_dense_two': 0.384428805469192}\n",
            "accuracy=0.9702947735786438\n",
            "{'batch_size': 190.0, 'dropout_cnn_one': 0.45768019780661956, 'dropout_cnn_three': 0.4394749626672573, 'dropout_cnn_two': 0.490671559328188, 'dropout_dense_one': 0.43349885258722004, 'dropout_dense_two': 0.6137188321777477}\n",
            "accuracy=0.9521542191505432\n",
            "{'batch_size': 140.0, 'dropout_cnn_one': 0.3821449988447509, 'dropout_cnn_three': 0.38641085044757284, 'dropout_cnn_two': 0.4574762585905367, 'dropout_dense_one': 0.6612761783916892, 'dropout_dense_two': 0.615910058209677}\n",
            "accuracy=0.9705215692520142\n",
            "{'batch_size': 190.0, 'dropout_cnn_one': 0.43824469052551984, 'dropout_cnn_three': 0.43435914560849337, 'dropout_cnn_two': 0.49692881218984486, 'dropout_dense_one': 0.4026580542014797, 'dropout_dense_two': 0.4887713069483094}\n",
            "accuracy=0.9473922848701477\n",
            "{'batch_size': 130.0, 'dropout_cnn_one': 0.4715470569408483, 'dropout_cnn_three': 0.3628386669457379, 'dropout_cnn_two': 0.3981267873939478, 'dropout_dense_one': 0.45665606710559226, 'dropout_dense_two': 0.6051717460257924}\n",
            "accuracy=0.9575963616371155\n",
            "{'batch_size': 130.0, 'dropout_cnn_one': 0.4329438180719428, 'dropout_cnn_three': 0.3892650357345733, 'dropout_cnn_two': 0.472364634663939, 'dropout_dense_one': 0.6995034750512589, 'dropout_dense_two': 0.3030025639487489}\n",
            "accuracy=0.9378684759140015\n",
            "{'batch_size': 150.0, 'dropout_cnn_one': 0.39312561533788193, 'dropout_cnn_three': 0.30179473665241724, 'dropout_cnn_two': 0.4322290398877407, 'dropout_dense_one': 0.3884320231357375, 'dropout_dense_two': 0.695340151740592}\n",
            "accuracy=0.9730158448219299\n",
            "{'batch_size': 170.0, 'dropout_cnn_one': 0.3049334461545038, 'dropout_cnn_three': 0.30952566943586085, 'dropout_cnn_two': 0.39857777303765474, 'dropout_dense_one': 0.4593245224125651, 'dropout_dense_two': 0.48490561178428315}\n",
            "accuracy=0.9875283241271973\n",
            "{'batch_size': 170.0, 'dropout_cnn_one': 0.3186051464684925, 'dropout_cnn_three': 0.3031357405482628, 'dropout_cnn_two': 0.3920050427178283, 'dropout_dense_one': 0.45037234668509574, 'dropout_dense_two': 0.485797705834346}\n",
            "accuracy=0.9814059138298035\n",
            "{'batch_size': 170.0, 'dropout_cnn_one': 0.3016308347716162, 'dropout_cnn_three': 0.3004657421247176, 'dropout_cnn_two': 0.3862319771165809, 'dropout_dense_one': 0.45832345865124324, 'dropout_dense_two': 0.46664029829677983}\n",
            "accuracy=0.9721088409423828\n",
            "{'batch_size': 170.0, 'dropout_cnn_one': 0.31654154034235693, 'dropout_cnn_three': 0.31139253150303436, 'dropout_cnn_two': 0.40496285514463765, 'dropout_dense_one': 0.4440827321150039, 'dropout_dense_two': 0.42266623579909257}\n",
            "accuracy=0.9702947735786438\n",
            "100%|██████████| 30/30 [15:45<00:00, 31.51s/it, best loss: -0.9875283241271973]\n"
          ],
          "name": "stdout"
        }
      ]
    },
    {
      "cell_type": "markdown",
      "metadata": {
        "id": "1MXREXqQ4LOR",
        "colab_type": "text"
      },
      "source": [
        "Udało się osiągnąć wynik : 0.9875283241271973\n"
      ]
    },
    {
      "cell_type": "code",
      "metadata": {
        "id": "tmcIvwaQ4P7Q",
        "colab_type": "code",
        "colab": {}
      },
      "source": [
        ""
      ],
      "execution_count": 0,
      "outputs": []
    }
  ]
}